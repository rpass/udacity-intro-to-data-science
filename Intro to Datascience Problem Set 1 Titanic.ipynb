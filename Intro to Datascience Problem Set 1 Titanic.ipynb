{
 "cells": [
  {
   "cell_type": "markdown",
   "metadata": {},
   "source": [
    "### About the _Titanic_ problem\n",
    "    http://www.kaggle.com/c/titanic-gettingStarted\n",
    "    http://www.kaggle.com/c/titanic-gettingStarted/data\n",
    "\n",
    "### Dataset\n",
    "    https://s3.amazonaws.com/content.udacity-data.com/courses/ud359/titanic_data.csv"
   ]
  },
  {
   "cell_type": "markdown",
   "metadata": {},
   "source": [
    "# Quiz 1\n",
    "\n",
    "Write a simple heuristic that will use the passengers' gender to predict if that person survived the Titanic disaster.\n",
    "    \n",
    "You prediction should be *78%* accurate or higher.\n",
    "        \n",
    "    1) If the passenger is female, your heuristic should assume that the passenger survived.\n",
    "    2) If the passenger is male, you heuristic should assume that the passenger did not survive."
   ]
  },
  {
   "cell_type": "markdown",
   "metadata": {},
   "source": [
    "## Import the correct packages"
   ]
  },
  {
   "cell_type": "code",
   "execution_count": 1,
   "metadata": {
    "collapsed": false
   },
   "outputs": [],
   "source": [
    "import numpy\n",
    "import pandas\n",
    "import statsmodels.api as sm"
   ]
  },
  {
   "cell_type": "markdown",
   "metadata": {},
   "source": [
    "## Write a simple decision tree predicting survival given gender"
   ]
  },
  {
   "cell_type": "code",
   "execution_count": 3,
   "metadata": {
    "collapsed": true
   },
   "outputs": [],
   "source": [
    "def simple_heuristic(file_path):\n",
    "    \n",
    "    predictions = {}\n",
    "    df = pandas.read_csv(file_path)\n",
    "    \n",
    "    for passenger_index, passenger in df.iterrows():\n",
    "        passengerIsMale = passenger['Sex'] == 'male'\n",
    "        passengerIsFemale = passenger['Sex'] == 'female'\n",
    "        \n",
    "        passenger_id = passenger['PassengerId']\n",
    "        if passengerIsMale:\n",
    "            survived = 0\n",
    "        elif passengerIsFemale:\n",
    "            survived = 1\n",
    "        \n",
    "        predictions[passenger_id] = survived\n",
    "        \n",
    "    return predictions"
   ]
  },
  {
   "cell_type": "markdown",
   "metadata": {},
   "source": [
    "Your heuristic is **78.68%** accurate."
   ]
  },
  {
   "cell_type": "markdown",
   "metadata": {},
   "source": [
    "# Quiz 2"
   ]
  },
  {
   "cell_type": "markdown",
   "metadata": {},
   "source": [
    "You need to write a more sophisticated algorithm that will use the passengers' gender and their socioeconomical class and age to predict if they survived the Titanic diaster. \n",
    "    \n",
    "You prediction should be 79% accurate or higher.\n",
    "    \n",
    "Here's the algorithm, predict the passenger survived if:\n",
    "    1) If the passenger is female or\n",
    "    2) if his/her socioeconomic status is high AND if the passenger is under 18\n",
    "    \n",
    "Otherwise, your algorithm should predict that the passenger perished in the disaster.\n",
    "    \n",
    "You can access the socioeconomic status of a passenger via passenger['Pclass']:\n",
    "* High socioeconomic status -- passenger['Pclass'] is 1\n",
    "* Medium socioeconomic status -- passenger['Pclass'] is 2\n",
    "* Low socioeconomic status -- passenger['Pclass'] is 3\n",
    "\n",
    "You can access the age of a passenger via passenger['Age']."
   ]
  },
  {
   "cell_type": "code",
   "execution_count": 5,
   "metadata": {
    "collapsed": true
   },
   "outputs": [],
   "source": [
    "def complex_heuristic(file_path):\n",
    "    predictions = {}\n",
    "    df = pandas.read_csv(file_path)\n",
    "    for passenger_index, passenger in df.iterrows():\n",
    "        passenger_id = passenger['PassengerId']\n",
    "        \n",
    "        passengerIsMale = passenger['Sex'] == 'male'\n",
    "        passengerIsFemale = passenger['Sex'] == 'female'\n",
    "        \n",
    "        hasHighSocioEconomicStatus = passenger['Pclass'] == 1\n",
    "        isYoung = passenger['Age'] < 18\n",
    "        \n",
    "        if passengerIsFemale or (hasHighSocioEconomicStatus and isYoung):\n",
    "            survived = 1\n",
    "        elif passengerIsMale:\n",
    "            survived = 0\n",
    "        \n",
    "        predictions[passenger_id] = survived\n",
    "    return predictions"
   ]
  },
  {
   "cell_type": "markdown",
   "metadata": {},
   "source": [
    "Your heuristic is **79.12%** accurate."
   ]
  },
  {
   "cell_type": "markdown",
   "metadata": {},
   "source": [
    "## Quiz 3"
   ]
  },
  {
   "cell_type": "markdown",
   "metadata": {},
   "source": [
    "For this exercise, you need to write a custom heuristic that will take in some combination of the passenger's attributes and predict if the passenger survived the Titanic diaster.\n",
    "\n",
    "Can your custom heuristic beat 80% accuracy?\n",
    "    \n",
    "The available attributes are:\n",
    "    Pclass          Passenger Class\n",
    "                    (1 = 1st; 2 = 2nd; 3 = 3rd)\n",
    "    Name            Name\n",
    "    Sex             Sex\n",
    "    Age             Age\n",
    "    SibSp           Number of Siblings/Spouses Aboard\n",
    "    Parch           Number of Parents/Children Aboard\n",
    "    Ticket          Ticket Number\n",
    "    Fare            Passenger Fare\n",
    "    Cabin           Cabin\n",
    "    Embarked        Port of Embarkation\n",
    "                    (C = Cherbourg; Q = Queenstown; S = Southampton)\n",
    "                    \n",
    "SPECIAL NOTES:\n",
    "* Pclass is a proxy for socioeconomic status (SES)\n",
    "    1st ~ Upper; 2nd ~ Middle; 3rd ~ Lower\n",
    "\n",
    "* Age is in years; fractional if age less than one\n",
    "    If the age is estimated, it is in the form xx.5\n",
    "\n",
    "* The family relation variables (i.e. SibSp and Parch) ignore some relations. The following are the definitions used for SibSp and Parch.\n",
    "\n",
    "  * __Sibling__:  brother, sister, stepbrother, or stepsister of passenger aboard Titanic\n",
    "  * __Spouse__:   husband or wife of passenger aboard Titanic (mistresses and fiancees ignored)\n",
    "  * __Parent__:   mother or father of passenger aboard Titanic\n",
    "  * __Child__:    son, daughter, stepson, or stepdaughter of passenger aboard Titanic"
   ]
  },
  {
   "cell_type": "code",
   "execution_count": 7,
   "metadata": {
    "collapsed": true
   },
   "outputs": [],
   "source": [
    "def custom_heuristic(file_path):\n",
    "    predictions = {}\n",
    "    df = pandas.read_csv(file_path)\n",
    "    for passenger_index, passenger in df.iterrows():\n",
    "        passenger_id = passenger['PassengerId']\n",
    "        \n",
    "        passengerIsMale = passenger['Sex'] == 'male'\n",
    "        passengerIsFemale = passenger['Sex'] == 'female'\n",
    "        \n",
    "        hasHighSocioEconomicStatus = passenger['Pclass'] == 1\n",
    "        isOfLowSocioEconomicStatus = passenger['Pclass'] < 3\n",
    "        isYoung = passenger['Age'] < 18\n",
    "        hadExpensiveTicket = passenger['Fare'] > 300\n",
    "        \n",
    "        if hadExpensiveTicket or passengerIsFemale or (isOfLowSocioEconomicStatus and isYoung):\n",
    "            survived = 1\n",
    "        elif passengerIsMale:\n",
    "            survived = 0\n",
    "        predictions[passenger_id] = survived\n",
    "    return predictions"
   ]
  },
  {
   "cell_type": "markdown",
   "metadata": {},
   "source": [
    "Your heuristic is **80.13%** accurate."
   ]
  },
  {
   "cell_type": "code",
   "execution_count": null,
   "metadata": {
    "collapsed": true
   },
   "outputs": [],
   "source": []
  }
 ],
 "metadata": {
  "kernelspec": {
   "display_name": "Python 2",
   "language": "python",
   "name": "python2"
  },
  "language_info": {
   "codemirror_mode": {
    "name": "ipython",
    "version": 2
   },
   "file_extension": ".py",
   "mimetype": "text/x-python",
   "name": "python",
   "nbconvert_exporter": "python",
   "pygments_lexer": "ipython2",
   "version": "2.7.11"
  }
 },
 "nbformat": 4,
 "nbformat_minor": 0
}
